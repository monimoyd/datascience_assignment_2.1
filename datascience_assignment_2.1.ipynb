{
 "cells": [
  {
   "cell_type": "markdown",
   "metadata": {},
   "source": [
    "###  Write a program which accepts a sequence of comma separated numbers from console and generate a list\n",
    "## Steps : \n",
    "  * Using input get a list of comma separated numbers\n",
    "  * split the string using comma as separator\n",
    "  * Use list comprehension to generate the list of numbers"
   ]
  },
  {
   "cell_type": "code",
   "execution_count": 2,
   "metadata": {},
   "outputs": [
    {
     "name": "stdout",
     "output_type": "stream",
     "text": [
      "Enter comma separated string of numbers: 7,15,-9,45,2,0,52\n",
      "number list = [7, 15, -9, 45, 2, 0, 52]\n"
     ]
    }
   ],
   "source": [
    "# use input to accept a list of \n",
    "comma_num_str = input(\"Enter comma separated string of numbers: \")\n",
    "# split the comma separated string of numbers with comma as separator to get array of strings\n",
    "num_str_array = comma_num_str.split(\",\")\n",
    "# Use list comprehension to get list of numbers from array of strings\n",
    "try:\n",
    "    num_list = [int(num_str.strip()) for num_str in num_str_array ]\n",
    "except:\n",
    "    print(\"Invalid numbers entered\")\n",
    "else:\n",
    "    print(\"number list = \" + str(num_list))"
   ]
  },
  {
   "cell_type": "code",
   "execution_count": null,
   "metadata": {},
   "outputs": [],
   "source": []
  }
 ],
 "metadata": {
  "kernelspec": {
   "display_name": "Python 3",
   "language": "python",
   "name": "python3"
  },
  "language_info": {
   "codemirror_mode": {
    "name": "ipython",
    "version": 3
   },
   "file_extension": ".py",
   "mimetype": "text/x-python",
   "name": "python",
   "nbconvert_exporter": "python",
   "pygments_lexer": "ipython3",
   "version": "3.6.4"
  }
 },
 "nbformat": 4,
 "nbformat_minor": 2
}
